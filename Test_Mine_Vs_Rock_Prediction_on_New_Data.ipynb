{
 "cells": [
  {
   "cell_type": "code",
   "execution_count": 1,
   "metadata": {
    "collapsed": false
   },
   "outputs": [],
   "source": [
    "from tensorflow.python.tools import inspect_checkpoint as chkp\n",
    "model_path = \"/Users/claudecoulombe/git/tensorflow_basic_tutorial/model/\"\n",
    "#chkp.print_tensors_in_checkpoint_file(model_path+'model.ckpt', tensor_name='', all_tensors=True)"
   ]
  },
  {
   "cell_type": "code",
   "execution_count": 2,
   "metadata": {
    "collapsed": false
   },
   "outputs": [
    {
     "name": "stdout",
     "output_type": "stream",
     "text": [
      "Nbr columns:  61\n",
      "X.shape (8, 60)\n",
      "WARNING:tensorflow:From /Library/Frameworks/Python.framework/Versions/3.6/lib/python3.6/site-packages/tensorflow/python/training/saver.py:1266: checkpoint_exists (from tensorflow.python.training.checkpoint_management) is deprecated and will be removed in a future version.\n",
      "Instructions for updating:\n",
      "Use standard file APIs to check for files with this prefix.\n",
      "INFO:tensorflow:Restoring parameters from /Users/claudecoulombe/git/tensorflow_basic_tutorial/model/model.ckpt\n",
      "******************* Prediction on new data *******************\n",
      "**************************************************************\n",
      "* 1 stands for M, (i.e. Mine) and 0 stands for R (i.e. Rock) *\n",
      "**************************************************************\n",
      "True target: 0 Predicted target: 0 Accurate prediction: True\n",
      "True target: 0 Predicted target: 0 Accurate prediction: True\n",
      "True target: 0 Predicted target: 0 Accurate prediction: True\n",
      "True target: 1 Predicted target: 0 Accurate prediction: False\n",
      "True target: 0 Predicted target: 0 Accurate prediction: True\n",
      "True target: 0 Predicted target: 0 Accurate prediction: True\n",
      "True target: 0 Predicted target: 1 Accurate prediction: False\n",
      "True target: 0 Predicted target: 1 Accurate prediction: False\n",
      "Final accuracy: 62.5%\n"
     ]
    }
   ],
   "source": [
    "# Testing model on fresh data, in fact synthesized data\n",
    "# only for the purpose of getting an idea of the generalization of the model\n",
    "import matplotlib.pyplot as plt \n",
    "import tensorflow as tf\n",
    "import numpy as np\n",
    "import pandas as pd\n",
    "from sklearn.preprocessing import LabelEncoder\n",
    "from sklearn.utils import shuffle\n",
    "from sklearn.model_selection import train_test_split\n",
    "from tensorflow.python.framework import ops\n",
    "\n",
    "# Create new data from the dataset \"sonar.csv\" modifying the features manually \n",
    "# creating 8 «synthetized» new data and save the file as new_sonar.csv\n",
    "def read_dataset(file_name):\n",
    "    dir_path = \"/Users/claudecoulombe/git/tensorflow_basic_tutorial/\"\n",
    "    df = pd.read_csv(dir_path+file_name,delimiter=',')\n",
    "    print(\"Nbr columns: \",len(df.columns))\n",
    "    X = df[df.columns[0:60]].values\n",
    "    y = df[df.columns[60]]\n",
    "    # Encode the dependant variable\n",
    "    encoder = LabelEncoder()\n",
    "    encoder.fit(y)\n",
    "    y = encoder.transform(y)\n",
    "    Y = one_hot_encode(y)\n",
    "    print(\"X.shape\",X.shape)\n",
    "    return (X,Y)\n",
    " \n",
    "# Define the encoder function M => 1, R => 0\n",
    "def one_hot_encode(labels):\n",
    "    n_labels = len(labels)\n",
    "#     n_unique_labels = len(np.unique(labels))\n",
    "    n_unique_labels = 2\n",
    "    one_hot_encode = np.zeros((n_labels,n_unique_labels))\n",
    "    one_hot_encode[np.arange(n_labels),labels] = 1\n",
    "    return one_hot_encode\n",
    "\n",
    "# Read the dataset\n",
    "X, Y = read_dataset('new_sonar.csv')\n",
    "\n",
    "n_dim = X.shape[1] \n",
    "n_class = 2\n",
    "\n",
    "# Define the number of hidden layers an the\n",
    "# number of neurons for each layer\n",
    "n_hidden_1 = 60\n",
    "n_hidden_2 = 60\n",
    "n_hidden_3 = 60\n",
    "n_hidden_4 = 60\n",
    "\n",
    "def multilayer_perceptron(x, weights, biases):\n",
    "    # Hidden layer with RELU activations\n",
    "    layer_1 = tf.add(tf.matmul(x, weights['h1']), biases['b1'])\n",
    "    layer_1 = tf.nn.relu(layer_1)\n",
    "    # Hidden layer with sigmoid activations\n",
    "    layer_2 = tf.add(tf.matmul(layer_1, weights['h2']), biases['b2'])\n",
    "    layer_2 = tf.nn.sigmoid(layer_2)\n",
    "    # Hidden layer with sigmoid activations\n",
    "    layer_3 = tf.add(tf.matmul(layer_2, weights['h3']), biases['b3'])\n",
    "    layer_3 = tf.nn.sigmoid(layer_3)\n",
    "    # Hidden layer with RELU activations\n",
    "    layer_4 = tf.add(tf.matmul(layer_3, weights['h4']), biases['b4'])\n",
    "    layer_4 = tf.nn.relu(layer_4)\n",
    "    # Output layer with linear activations\n",
    "    out_layer = tf.matmul(layer_4, weights['out']) + biases['out_b']\n",
    "    return out_layer\n",
    " \n",
    "tf.reset_default_graph() \n",
    "\n",
    "model_path = \"/Users/claudecoulombe/git/tensorflow_basic_tutorial/model/\"\n",
    "new_saver = tf.train.import_meta_graph(model_path+'model.ckpt.meta')\n",
    "\n",
    "sess = tf.Session()\n",
    "\n",
    "with tf.Session() as sess:  \n",
    "    new_saver.restore(sess, tf.train.latest_checkpoint(model_path))\n",
    "\n",
    "    # Inputs and outputs\n",
    "    x = tf.placeholder(tf.float32,[None, n_dim])\n",
    "    y_ = tf.placeholder(tf.float32,[None, n_class])\n",
    "\n",
    "    # define the weights and the biases for each layer\n",
    "    weights = {\n",
    "        'h1': sess.run(\"h1:0\"),\n",
    "        'h2': sess.run(\"h2:0\"),\n",
    "        'h3': sess.run(\"h3:0\"),\n",
    "        'h4': sess.run(\"h4:0\"),\n",
    "        'out': sess.run(\"out:0\"),\n",
    "        }\n",
    "    biases = {\n",
    "        'b1': sess.run(\"b1:0\"),\n",
    "        'b2': sess.run(\"b2:0\"),\n",
    "        'b3': sess.run(\"b3:0\"),\n",
    "        'b4': sess.run(\"b4:0\"),\n",
    "        'out_b': sess.run(\"out_b:0\"),\n",
    "        }\n",
    "\n",
    "    # Call your model defined\n",
    "    print(\"******************* Prediction on new data *******************\")\n",
    "    print(\"**************************************************************\")\n",
    "    print(\"* 1 stands for M, (i.e. Mine) and 0 stands for R (i.e. Rock) *\")\n",
    "    print(\"**************************************************************\")\n",
    "    predicted_targets = sess.run(tf.argmax(multilayer_perceptron(x, weights, biases),1), feed_dict={x:X}).tolist()\n",
    "    true_targets = [np.argmax(a_data_sample) for a_data_sample in Y]\n",
    "    for true_target,predicted_target in zip(true_targets,predicted_targets):\n",
    "        print(\"True target:\",true_target, \"Predicted target:\",predicted_target,\"Accurate prediction:\",true_target==predicted_target)\n",
    "    total_accurate = sum([1 for index in range(len(true_targets)) if true_targets[index] == predicted_targets[index]])\n",
    "    print(\"Final accuracy:\",str(round(total_accurate/len(true_targets),3)*100)+\"%\")"
   ]
  },
  {
   "cell_type": "markdown",
   "metadata": {
    "collapsed": true
   },
   "source": [
    "With 62.5% , the model has shown some power of generalization."
   ]
  },
  {
   "cell_type": "code",
   "execution_count": null,
   "metadata": {
    "collapsed": true
   },
   "outputs": [],
   "source": []
  }
 ],
 "metadata": {
  "kernelspec": {
   "display_name": "Python 3",
   "language": "python",
   "name": "python3"
  },
  "language_info": {
   "codemirror_mode": {
    "name": "ipython",
    "version": 3
   },
   "file_extension": ".py",
   "mimetype": "text/x-python",
   "name": "python",
   "nbconvert_exporter": "python",
   "pygments_lexer": "ipython3",
   "version": "3.6.5"
  }
 },
 "nbformat": 4,
 "nbformat_minor": 2
}
